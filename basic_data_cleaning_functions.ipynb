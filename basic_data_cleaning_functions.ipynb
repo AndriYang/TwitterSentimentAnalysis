{
  "nbformat": 4,
  "nbformat_minor": 0,
  "metadata": {
    "colab": {
      "name": "basic_data_cleaning_functions.ipynb",
      "provenance": [],
      "collapsed_sections": []
    },
    "kernelspec": {
      "name": "python3",
      "display_name": "Python 3"
    },
    "accelerator": "TPU"
  },
  "cells": [
    {
      "cell_type": "markdown",
      "metadata": {
        "id": "ox7J0656nQtk",
        "colab_type": "text"
      },
      "source": [
        "# A small notebook for some basic cleaning functions for NLP related tasks. Feel free to edit"
      ]
    },
    {
      "cell_type": "markdown",
      "metadata": {
        "id": "lZOydbwdnKiK",
        "colab_type": "text"
      },
      "source": [
        "My own means of loading in a dataset\n"
      ]
    },
    {
      "cell_type": "code",
      "metadata": {
        "id": "_WrAICB1gD7A",
        "colab_type": "code",
        "outputId": "011e9865-687c-4d71-a469-2aa35fc5be0b",
        "colab": {
          "base_uri": "https://localhost:8080/",
          "height": 126
        }
      },
      "source": [
        "from google.colab import drive\n",
        "\n",
        "drive.mount('/content/gdrive/')"
      ],
      "execution_count": 1,
      "outputs": [
        {
          "output_type": "stream",
          "text": [
            "Go to this URL in a browser: https://accounts.google.com/o/oauth2/auth?client_id=947318989803-6bn6qk8qdgf4n4g3pfee6491hc0brc4i.apps.googleusercontent.com&redirect_uri=urn%3aietf%3awg%3aoauth%3a2.0%3aoob&response_type=code&scope=email%20https%3a%2f%2fwww.googleapis.com%2fauth%2fdocs.test%20https%3a%2f%2fwww.googleapis.com%2fauth%2fdrive%20https%3a%2f%2fwww.googleapis.com%2fauth%2fdrive.photos.readonly%20https%3a%2f%2fwww.googleapis.com%2fauth%2fpeopleapi.readonly\n",
            "\n",
            "Enter your authorization code:\n",
            "··········\n",
            "Mounted at /content/gdrive/\n"
          ],
          "name": "stdout"
        }
      ]
    },
    {
      "cell_type": "markdown",
      "metadata": {
        "id": "3IOx9wAXndPU",
        "colab_type": "text"
      },
      "source": [
        "# Some libraries"
      ]
    },
    {
      "cell_type": "code",
      "metadata": {
        "id": "8mwkS9X9Ja9t",
        "colab_type": "code",
        "outputId": "12668116-6aab-446f-8400-be91647e19c5",
        "colab": {
          "base_uri": "https://localhost:8080/",
          "height": 177
        }
      },
      "source": [
        "import numpy as np\n",
        "import pandas as pd\n",
        "import time\n",
        "import nltk\n",
        "\n",
        "## These might be necessary if you are using the stopwords removal function\n",
        "# nltk.download('punkt')\n",
        "# nltk.download('wordnet')\n",
        "# nltk.download('stopwords')\n",
        "# nltk.download('words')\n",
        "\n",
        "\n",
        "\n",
        "# I kinda use this just to check how fast some of these functions are, you can ignore these\n",
        "# start_time = time.time()\n",
        "# print(\"time elapsed:\")\n",
        "# print(\"--- %s seconds ---\" % (time.time() - start_time))"
      ],
      "execution_count": 2,
      "outputs": [
        {
          "output_type": "stream",
          "text": [
            "[nltk_data] Downloading package punkt to /root/nltk_data...\n",
            "[nltk_data]   Unzipping tokenizers/punkt.zip.\n",
            "[nltk_data] Downloading package wordnet to /root/nltk_data...\n",
            "[nltk_data]   Unzipping corpora/wordnet.zip.\n",
            "[nltk_data] Downloading package stopwords to /root/nltk_data...\n",
            "[nltk_data]   Unzipping corpora/stopwords.zip.\n",
            "[nltk_data] Downloading package words to /root/nltk_data...\n",
            "[nltk_data]   Unzipping corpora/words.zip.\n"
          ],
          "name": "stdout"
        },
        {
          "output_type": "execute_result",
          "data": {
            "text/plain": [
              "True"
            ]
          },
          "metadata": {
            "tags": []
          },
          "execution_count": 2
        }
      ]
    },
    {
      "cell_type": "markdown",
      "metadata": {
        "id": "1NYJYaVjnpK2",
        "colab_type": "text"
      },
      "source": [
        "### Instantiate your dataset (STARTING POINT)\n"
      ]
    },
    {
      "cell_type": "code",
      "metadata": {
        "id": "WnlNMLYlgGuM",
        "colab_type": "code",
        "outputId": "8b7430ee-8d8c-4e5d-9910-755e129f6188",
        "colab": {
          "base_uri": "https://localhost:8080/",
          "height": 399
        }
      },
      "source": [
        "# My own way, feel free to load in another manner!\n",
        "data = pd.read_csv('/content/gdrive/My Drive/cds_stuffs/base_no_duplicates.csv', index_col=0)\n",
        "\n",
        "# Your own dataframe\n",
        "tweettweet = pd.DataFrame(data)\n",
        "tweettweet\n"
      ],
      "execution_count": 10,
      "outputs": [
        {
          "output_type": "execute_result",
          "data": {
            "text/html": [
              "<div>\n",
              "<style scoped>\n",
              "    .dataframe tbody tr th:only-of-type {\n",
              "        vertical-align: middle;\n",
              "    }\n",
              "\n",
              "    .dataframe tbody tr th {\n",
              "        vertical-align: top;\n",
              "    }\n",
              "\n",
              "    .dataframe thead th {\n",
              "        text-align: right;\n",
              "    }\n",
              "</style>\n",
              "<table border=\"1\" class=\"dataframe\">\n",
              "  <thead>\n",
              "    <tr style=\"text-align: right;\">\n",
              "      <th></th>\n",
              "      <th>tweet_id</th>\n",
              "      <th>label</th>\n",
              "      <th>text</th>\n",
              "      <th>created_at</th>\n",
              "      <th>items</th>\n",
              "      <th>is_reply</th>\n",
              "      <th>contains_url</th>\n",
              "      <th>hashtag</th>\n",
              "      <th>tweetos</th>\n",
              "    </tr>\n",
              "  </thead>\n",
              "  <tbody>\n",
              "    <tr>\n",
              "      <th>0</th>\n",
              "      <td>850490912954350976</td>\n",
              "      <td>abusive</td>\n",
              "      <td>Alex Brosas another idiot #ALDUBKSGoesToUS</td>\n",
              "      <td>42832.979271</td>\n",
              "      <td>{'hashtags': [{'text': 'ALDUBKSGoesToUS', 'ind...</td>\n",
              "      <td>0</td>\n",
              "      <td>1</td>\n",
              "      <td>ALDUBKSGoesToUS</td>\n",
              "      <td>other</td>\n",
              "    </tr>\n",
              "    <tr>\n",
              "      <th>1</th>\n",
              "      <td>848791766853667968</td>\n",
              "      <td>abusive</td>\n",
              "      <td>as Nancy Reagan would say, 'just say FUCKING N...</td>\n",
              "      <td>42828.290521</td>\n",
              "      <td>{'hashtags': [], 'symbols': [], 'user_mentions...</td>\n",
              "      <td>1</td>\n",
              "      <td>1</td>\n",
              "      <td>None</td>\n",
              "      <td>other</td>\n",
              "    </tr>\n",
              "    <tr>\n",
              "      <th>2</th>\n",
              "      <td>850433664890544000</td>\n",
              "      <td>hateful</td>\n",
              "      <td>I hate er chase because if the Bitch that work...</td>\n",
              "      <td>42832.821296</td>\n",
              "      <td>{'hashtags': [], 'symbols': [], 'user_mentions...</td>\n",
              "      <td>0</td>\n",
              "      <td>0</td>\n",
              "      <td>None</td>\n",
              "      <td>other</td>\n",
              "    </tr>\n",
              "    <tr>\n",
              "      <th>3</th>\n",
              "      <td>850411934205844992</td>\n",
              "      <td>abusive</td>\n",
              "      <td>SICK OF BITCHES ON THE INTERNET #fbloggers #fb...</td>\n",
              "      <td>42832.761331</td>\n",
              "      <td>{'hashtags': [{'text': 'fbloggers', 'indices':...</td>\n",
              "      <td>1</td>\n",
              "      <td>1</td>\n",
              "      <td>fbloggers, fblchat, fbloggers, fblchat</td>\n",
              "      <td>other</td>\n",
              "    </tr>\n",
              "    <tr>\n",
              "      <th>4</th>\n",
              "      <td>850100742035836032</td>\n",
              "      <td>hateful</td>\n",
              "      <td>Pineapples do not belong on pizza. Y'all nigga...</td>\n",
              "      <td>42831.902604</td>\n",
              "      <td>{'hashtags': [], 'symbols': [], 'user_mentions...</td>\n",
              "      <td>1</td>\n",
              "      <td>0</td>\n",
              "      <td>None</td>\n",
              "      <td>other</td>\n",
              "    </tr>\n",
              "    <tr>\n",
              "      <th>...</th>\n",
              "      <td>...</td>\n",
              "      <td>...</td>\n",
              "      <td>...</td>\n",
              "      <td>...</td>\n",
              "      <td>...</td>\n",
              "      <td>...</td>\n",
              "      <td>...</td>\n",
              "      <td>...</td>\n",
              "      <td>...</td>\n",
              "    </tr>\n",
              "    <tr>\n",
              "      <th>57385</th>\n",
              "      <td>849805798540816000</td>\n",
              "      <td>abusive</td>\n",
              "      <td>just want ONE fucking person JUST ONE</td>\n",
              "      <td>42831.088715</td>\n",
              "      <td>{'hashtags': [], 'symbols': [], 'user_mentions...</td>\n",
              "      <td>1</td>\n",
              "      <td>0</td>\n",
              "      <td>None</td>\n",
              "      <td>other</td>\n",
              "    </tr>\n",
              "    <tr>\n",
              "      <th>57386</th>\n",
              "      <td>849352574654349056</td>\n",
              "      <td>normal</td>\n",
              "      <td>For fans of Simon R. Green - Fast-paced, grues...</td>\n",
              "      <td>42829.838056</td>\n",
              "      <td>{'hashtags': [{'text': 'ewgc', 'indices': [122...</td>\n",
              "      <td>0</td>\n",
              "      <td>0</td>\n",
              "      <td>ewgc</td>\n",
              "      <td>other</td>\n",
              "    </tr>\n",
              "    <tr>\n",
              "      <th>57387</th>\n",
              "      <td>849736257001463040</td>\n",
              "      <td>abusive</td>\n",
              "      <td>I'm like 5 bad days away from saying fuck it a...</td>\n",
              "      <td>42830.896817</td>\n",
              "      <td>{'hashtags': [], 'symbols': [], 'user_mentions...</td>\n",
              "      <td>1</td>\n",
              "      <td>0</td>\n",
              "      <td>None</td>\n",
              "      <td>other</td>\n",
              "    </tr>\n",
              "    <tr>\n",
              "      <th>57388</th>\n",
              "      <td>848944263366934016</td>\n",
              "      <td>abusive</td>\n",
              "      <td>\"Chick-fil-a's owner is a Trump supporter!\" Me...</td>\n",
              "      <td>42828.711331</td>\n",
              "      <td>{'hashtags': [], 'symbols': [], 'user_mentions...</td>\n",
              "      <td>1</td>\n",
              "      <td>1</td>\n",
              "      <td>None</td>\n",
              "      <td>other</td>\n",
              "    </tr>\n",
              "    <tr>\n",
              "      <th>57389</th>\n",
              "      <td>848600884091268992</td>\n",
              "      <td>abusive</td>\n",
              "      <td>if i wanna twist it all around my fucking body...</td>\n",
              "      <td>42827.763785</td>\n",
              "      <td>{'hashtags': [], 'symbols': [], 'user_mentions...</td>\n",
              "      <td>1</td>\n",
              "      <td>1</td>\n",
              "      <td>None</td>\n",
              "      <td>other</td>\n",
              "    </tr>\n",
              "  </tbody>\n",
              "</table>\n",
              "<p>57390 rows × 9 columns</p>\n",
              "</div>"
            ],
            "text/plain": [
              "                 tweet_id  ... tweetos\n",
              "0      850490912954350976  ...   other\n",
              "1      848791766853667968  ...   other\n",
              "2      850433664890544000  ...   other\n",
              "3      850411934205844992  ...   other\n",
              "4      850100742035836032  ...   other\n",
              "...                   ...  ...     ...\n",
              "57385  849805798540816000  ...   other\n",
              "57386  849352574654349056  ...   other\n",
              "57387  849736257001463040  ...   other\n",
              "57388  848944263366934016  ...   other\n",
              "57389  848600884091268992  ...   other\n",
              "\n",
              "[57390 rows x 9 columns]"
            ]
          },
          "metadata": {
            "tags": []
          },
          "execution_count": 10
        }
      ]
    },
    {
      "cell_type": "markdown",
      "metadata": {
        "id": "n6LQztUPXPpu",
        "colab_type": "text"
      },
      "source": [
        "# Phase 1: Data manipulation"
      ]
    },
    {
      "cell_type": "markdown",
      "metadata": {
        "id": "LNla2ZBJJolb",
        "colab_type": "text"
      },
      "source": [
        "### Drop unneeded columns for training, group up the classes"
      ]
    },
    {
      "cell_type": "code",
      "metadata": {
        "id": "A2313VM7XOcO",
        "colab_type": "code",
        "colab": {}
      },
      "source": [
        "# start_time = time.time()\n",
        "\n",
        "### Drop created_at, items, is_reply, contains_url, hashtag, tweetos\n",
        "tweettweet = tweettweet.drop(columns=['created_at', 'items', 'is_reply', 'contains_url', 'hashtag', 'tweetos'])\n",
        "\n",
        "### Convert 'abusive' and 'hateful' into class 1, 'normal' and 'spam' into class 0\n",
        "\n",
        "label = np.array(tweettweet['label'])\n",
        "\n",
        "label = np.isin(label, ['abusive', 'hateful'])\n",
        "\n",
        "tweettweet['label'] = label + 0\n",
        "\n",
        "# print(\"time elapsed:\")\n",
        "# print(\"--- %s seconds ---\" % (time.time() - start_time))"
      ],
      "execution_count": 0,
      "outputs": []
    },
    {
      "cell_type": "code",
      "metadata": {
        "id": "lJjP1nptYwcD",
        "colab_type": "code",
        "outputId": "8b102305-e3fe-4855-eb1e-f146ca27768e",
        "colab": {
          "base_uri": "https://localhost:8080/",
          "height": 399
        }
      },
      "source": [
        "tweettweet"
      ],
      "execution_count": 5,
      "outputs": [
        {
          "output_type": "execute_result",
          "data": {
            "text/html": [
              "<div>\n",
              "<style scoped>\n",
              "    .dataframe tbody tr th:only-of-type {\n",
              "        vertical-align: middle;\n",
              "    }\n",
              "\n",
              "    .dataframe tbody tr th {\n",
              "        vertical-align: top;\n",
              "    }\n",
              "\n",
              "    .dataframe thead th {\n",
              "        text-align: right;\n",
              "    }\n",
              "</style>\n",
              "<table border=\"1\" class=\"dataframe\">\n",
              "  <thead>\n",
              "    <tr style=\"text-align: right;\">\n",
              "      <th></th>\n",
              "      <th>tweet_id</th>\n",
              "      <th>label</th>\n",
              "      <th>text</th>\n",
              "    </tr>\n",
              "  </thead>\n",
              "  <tbody>\n",
              "    <tr>\n",
              "      <th>0</th>\n",
              "      <td>850490912954350976</td>\n",
              "      <td>1</td>\n",
              "      <td>Alex Brosas another idiot #ALDUBKSGoesToUS</td>\n",
              "    </tr>\n",
              "    <tr>\n",
              "      <th>1</th>\n",
              "      <td>848791766853667968</td>\n",
              "      <td>1</td>\n",
              "      <td>as Nancy Reagan would say, 'just say FUCKING N...</td>\n",
              "    </tr>\n",
              "    <tr>\n",
              "      <th>2</th>\n",
              "      <td>850433664890544000</td>\n",
              "      <td>1</td>\n",
              "      <td>I hate er chase because if the Bitch that work...</td>\n",
              "    </tr>\n",
              "    <tr>\n",
              "      <th>3</th>\n",
              "      <td>850411934205844992</td>\n",
              "      <td>1</td>\n",
              "      <td>SICK OF BITCHES ON THE INTERNET #fbloggers #fb...</td>\n",
              "    </tr>\n",
              "    <tr>\n",
              "      <th>4</th>\n",
              "      <td>850100742035836032</td>\n",
              "      <td>1</td>\n",
              "      <td>Pineapples do not belong on pizza. Y'all nigga...</td>\n",
              "    </tr>\n",
              "    <tr>\n",
              "      <th>...</th>\n",
              "      <td>...</td>\n",
              "      <td>...</td>\n",
              "      <td>...</td>\n",
              "    </tr>\n",
              "    <tr>\n",
              "      <th>57385</th>\n",
              "      <td>849805798540816000</td>\n",
              "      <td>1</td>\n",
              "      <td>just want ONE fucking person JUST ONE</td>\n",
              "    </tr>\n",
              "    <tr>\n",
              "      <th>57386</th>\n",
              "      <td>849352574654349056</td>\n",
              "      <td>0</td>\n",
              "      <td>For fans of Simon R. Green - Fast-paced, grues...</td>\n",
              "    </tr>\n",
              "    <tr>\n",
              "      <th>57387</th>\n",
              "      <td>849736257001463040</td>\n",
              "      <td>1</td>\n",
              "      <td>I'm like 5 bad days away from saying fuck it a...</td>\n",
              "    </tr>\n",
              "    <tr>\n",
              "      <th>57388</th>\n",
              "      <td>848944263366934016</td>\n",
              "      <td>1</td>\n",
              "      <td>\"Chick-fil-a's owner is a Trump supporter!\" Me...</td>\n",
              "    </tr>\n",
              "    <tr>\n",
              "      <th>57389</th>\n",
              "      <td>848600884091268992</td>\n",
              "      <td>1</td>\n",
              "      <td>if i wanna twist it all around my fucking body...</td>\n",
              "    </tr>\n",
              "  </tbody>\n",
              "</table>\n",
              "<p>57390 rows × 3 columns</p>\n",
              "</div>"
            ],
            "text/plain": [
              "                 tweet_id  ...                                               text\n",
              "0      850490912954350976  ...         Alex Brosas another idiot #ALDUBKSGoesToUS\n",
              "1      848791766853667968  ...  as Nancy Reagan would say, 'just say FUCKING N...\n",
              "2      850433664890544000  ...  I hate er chase because if the Bitch that work...\n",
              "3      850411934205844992  ...  SICK OF BITCHES ON THE INTERNET #fbloggers #fb...\n",
              "4      850100742035836032  ...  Pineapples do not belong on pizza. Y'all nigga...\n",
              "...                   ...  ...                                                ...\n",
              "57385  849805798540816000  ...              just want ONE fucking person JUST ONE\n",
              "57386  849352574654349056  ...  For fans of Simon R. Green - Fast-paced, grues...\n",
              "57387  849736257001463040  ...  I'm like 5 bad days away from saying fuck it a...\n",
              "57388  848944263366934016  ...  \"Chick-fil-a's owner is a Trump supporter!\" Me...\n",
              "57389  848600884091268992  ...  if i wanna twist it all around my fucking body...\n",
              "\n",
              "[57390 rows x 3 columns]"
            ]
          },
          "metadata": {
            "tags": []
          },
          "execution_count": 5
        }
      ]
    },
    {
      "cell_type": "markdown",
      "metadata": {
        "id": "oZ1XjhljO7cn",
        "colab_type": "text"
      },
      "source": [
        "### Unique values counter"
      ]
    },
    {
      "cell_type": "code",
      "metadata": {
        "id": "rcWOWhMEKYi8",
        "colab_type": "code",
        "colab": {}
      },
      "source": [
        "## Returns a dictionary of unique values with their counts for a specified column\n",
        "## So you can convert that column into an array first before passing it in\n",
        "def unique_counts(array):\n",
        "  unique, counts = np.unique(array, return_counts=True)\n",
        "  uc_dict = dict(zip(unique, counts))\n",
        "\n",
        "  return uc_dict"
      ],
      "execution_count": 0,
      "outputs": []
    },
    {
      "cell_type": "markdown",
      "metadata": {
        "id": "PFBhn_88O-xI",
        "colab_type": "text"
      },
      "source": [
        "### Balances your dataset according to a specified ratio(this function was for binary. Feel free to upgrade it)"
      ]
    },
    {
      "cell_type": "code",
      "metadata": {
        "id": "2z6fjkEiNR0p",
        "colab_type": "code",
        "colab": {}
      },
      "source": [
        "### Function to remove rows at random from class 0 to match class 1 in the ratio you want\n",
        "# E.g you want class 0 to have 1.3 times the number of instances in class 1, you set ratio to 1.3\n",
        "\n",
        "def balance_dataset(dataset, label_col, class_dict, ratio):\n",
        "  # label_col : the name used for the column containing your labels\n",
        "  # class_dict : use the unique_counts function to produce it then pass it here\n",
        "  # ratio : basically the percentage of class 1 that you will reduce class 0 to\n",
        "\n",
        "  # take the counts \n",
        "  c_0_counts = class_dict[0] # class 0 counts\n",
        "  c_1_counts = class_dict[1] # class 1 counts\n",
        "\n",
        "  # number of rows in class 0 to drop randomly \n",
        "  n = int(c_0_counts - (ratio * c_1_counts))\n",
        "\n",
        "  # drop the random number of rows\n",
        "  df_dropped = dataset.drop(dataset[dataset[label_col] == 0].sample(n=n).index)\n",
        "\n",
        "  # reorder the index\n",
        "  df_dropped = df_dropped.reset_index()\n",
        "\n",
        "  # drop previous index row\n",
        "  df_dropped = df_dropped.drop(columns='index')\n",
        "\n",
        "  return df_dropped"
      ],
      "execution_count": 0,
      "outputs": []
    },
    {
      "cell_type": "markdown",
      "metadata": {
        "id": "vyHNdWlUPFEm",
        "colab_type": "text"
      },
      "source": [
        "# Testing Section 0: Test out the first few functions here"
      ]
    },
    {
      "cell_type": "code",
      "metadata": {
        "id": "3zC5peAW3_bI",
        "colab_type": "code",
        "outputId": "3bf33ede-b6a3-4cdf-b875-cbf7b2bd8170",
        "colab": {
          "base_uri": "https://localhost:8080/",
          "height": 399
        }
      },
      "source": [
        "class_dict = unique_counts(tweettweet['label'])\n",
        "\n",
        "tweettweet = balance_dataset(tweettweet, 'label', class_dict, 1)\n",
        "tweettweet"
      ],
      "execution_count": 12,
      "outputs": [
        {
          "output_type": "execute_result",
          "data": {
            "text/html": [
              "<div>\n",
              "<style scoped>\n",
              "    .dataframe tbody tr th:only-of-type {\n",
              "        vertical-align: middle;\n",
              "    }\n",
              "\n",
              "    .dataframe tbody tr th {\n",
              "        vertical-align: top;\n",
              "    }\n",
              "\n",
              "    .dataframe thead th {\n",
              "        text-align: right;\n",
              "    }\n",
              "</style>\n",
              "<table border=\"1\" class=\"dataframe\">\n",
              "  <thead>\n",
              "    <tr style=\"text-align: right;\">\n",
              "      <th></th>\n",
              "      <th>tweet_id</th>\n",
              "      <th>label</th>\n",
              "      <th>text</th>\n",
              "    </tr>\n",
              "  </thead>\n",
              "  <tbody>\n",
              "    <tr>\n",
              "      <th>0</th>\n",
              "      <td>850490912954350976</td>\n",
              "      <td>1</td>\n",
              "      <td>Alex Brosas another idiot #ALDUBKSGoesToUS</td>\n",
              "    </tr>\n",
              "    <tr>\n",
              "      <th>1</th>\n",
              "      <td>848791766853667968</td>\n",
              "      <td>1</td>\n",
              "      <td>as Nancy Reagan would say, 'just say FUCKING N...</td>\n",
              "    </tr>\n",
              "    <tr>\n",
              "      <th>2</th>\n",
              "      <td>850433664890544000</td>\n",
              "      <td>1</td>\n",
              "      <td>I hate er chase because if the Bitch that work...</td>\n",
              "    </tr>\n",
              "    <tr>\n",
              "      <th>3</th>\n",
              "      <td>850411934205844992</td>\n",
              "      <td>1</td>\n",
              "      <td>SICK OF BITCHES ON THE INTERNET #fbloggers #fb...</td>\n",
              "    </tr>\n",
              "    <tr>\n",
              "      <th>4</th>\n",
              "      <td>850100742035836032</td>\n",
              "      <td>1</td>\n",
              "      <td>Pineapples do not belong on pizza. Y'all nigga...</td>\n",
              "    </tr>\n",
              "    <tr>\n",
              "      <th>...</th>\n",
              "      <td>...</td>\n",
              "      <td>...</td>\n",
              "      <td>...</td>\n",
              "    </tr>\n",
              "    <tr>\n",
              "      <th>25187</th>\n",
              "      <td>850744597030592000</td>\n",
              "      <td>1</td>\n",
              "      <td>Plot twist: he never stopped fucking with her ...</td>\n",
              "    </tr>\n",
              "    <tr>\n",
              "      <th>25188</th>\n",
              "      <td>849805798540816000</td>\n",
              "      <td>1</td>\n",
              "      <td>just want ONE fucking person JUST ONE</td>\n",
              "    </tr>\n",
              "    <tr>\n",
              "      <th>25189</th>\n",
              "      <td>849736257001463040</td>\n",
              "      <td>1</td>\n",
              "      <td>I'm like 5 bad days away from saying fuck it a...</td>\n",
              "    </tr>\n",
              "    <tr>\n",
              "      <th>25190</th>\n",
              "      <td>848944263366934016</td>\n",
              "      <td>1</td>\n",
              "      <td>\"Chick-fil-a's owner is a Trump supporter!\" Me...</td>\n",
              "    </tr>\n",
              "    <tr>\n",
              "      <th>25191</th>\n",
              "      <td>848600884091268992</td>\n",
              "      <td>1</td>\n",
              "      <td>if i wanna twist it all around my fucking body...</td>\n",
              "    </tr>\n",
              "  </tbody>\n",
              "</table>\n",
              "<p>25192 rows × 3 columns</p>\n",
              "</div>"
            ],
            "text/plain": [
              "                 tweet_id  ...                                               text\n",
              "0      850490912954350976  ...         Alex Brosas another idiot #ALDUBKSGoesToUS\n",
              "1      848791766853667968  ...  as Nancy Reagan would say, 'just say FUCKING N...\n",
              "2      850433664890544000  ...  I hate er chase because if the Bitch that work...\n",
              "3      850411934205844992  ...  SICK OF BITCHES ON THE INTERNET #fbloggers #fb...\n",
              "4      850100742035836032  ...  Pineapples do not belong on pizza. Y'all nigga...\n",
              "...                   ...  ...                                                ...\n",
              "25187  850744597030592000  ...  Plot twist: he never stopped fucking with her ...\n",
              "25188  849805798540816000  ...              just want ONE fucking person JUST ONE\n",
              "25189  849736257001463040  ...  I'm like 5 bad days away from saying fuck it a...\n",
              "25190  848944263366934016  ...  \"Chick-fil-a's owner is a Trump supporter!\" Me...\n",
              "25191  848600884091268992  ...  if i wanna twist it all around my fucking body...\n",
              "\n",
              "[25192 rows x 3 columns]"
            ]
          },
          "metadata": {
            "tags": []
          },
          "execution_count": 12
        }
      ]
    },
    {
      "cell_type": "markdown",
      "metadata": {
        "id": "1IZsgYA3sWRG",
        "colab_type": "text"
      },
      "source": [
        "Just a means for me to check if the counts were done correctly"
      ]
    },
    {
      "cell_type": "code",
      "metadata": {
        "id": "Sn2IgQUHDB45",
        "colab_type": "code",
        "outputId": "28778ba0-1861-4b2c-ecde-efec0e6d95ee",
        "colab": {
          "base_uri": "https://localhost:8080/",
          "height": 52
        }
      },
      "source": [
        "c1 = 0 # class 1 counter\n",
        "c0 = 0 # class 0 counter\n",
        "for x in tweettweet['label']:\n",
        "  if x == 1:\n",
        "    c1 += 1\n",
        "  else:\n",
        "    c0 += 1\n",
        "print(c1)\n",
        "print(c0)\n"
      ],
      "execution_count": 13,
      "outputs": [
        {
          "output_type": "stream",
          "text": [
            "12596\n",
            "12596\n"
          ],
          "name": "stdout"
        }
      ]
    },
    {
      "cell_type": "markdown",
      "metadata": {
        "id": "IWSdqNxE92CE",
        "colab_type": "text"
      },
      "source": [
        "# Remove duplicates from base dataset by column"
      ]
    },
    {
      "cell_type": "markdown",
      "metadata": {
        "id": "RKOyVPOx97oQ",
        "colab_type": "text"
      },
      "source": [
        "First get a dictionary of unique terms and their counts in the dictionary, then extract out the terms that have more than 1 count "
      ]
    },
    {
      "cell_type": "code",
      "metadata": {
        "id": "ZUCtZIc4PUIs",
        "colab_type": "code",
        "outputId": "1f392f0f-a323-4320-da82-9c735852294c",
        "colab": {
          "base_uri": "https://localhost:8080/",
          "height": 35
        }
      },
      "source": [
        "### get the duplicate terms and their counts in the column\n",
        "def duplicate_counts(dataset, col_name):\n",
        "  # col_name : name of the column you want to check for duplicates\n",
        "\n",
        "  # change the dataframe column to np array\n",
        "  col_np = np.array(dataset[col_name].astype('str')) \n",
        "\n",
        "  # using unique counts function to get the dictionary of unique terms and counts\n",
        "  uni_dict = unique_counts(col_np)\n",
        "\n",
        "  # instantiate the dictionary that will contain the duplicates\n",
        "  dup_dict = {}\n",
        "\n",
        "  for key in uni_dict:\n",
        "    if uni_dict[key] > 1:\n",
        "      dup_dict[key] = uni_dict[key]\n",
        "\n",
        "  return dup_dict"
      ],
      "execution_count": 0,
      "outputs": [
        {
          "output_type": "stream",
          "text": [
            "57390\n"
          ],
          "name": "stdout"
        }
      ]
    },
    {
      "cell_type": "markdown",
      "metadata": {
        "id": "A0ZoL2oEAf2m",
        "colab_type": "text"
      },
      "source": [
        "### Function for removing rows that contain duplicates and resetting the index"
      ]
    },
    {
      "cell_type": "code",
      "metadata": {
        "id": "JZF4_18yWnc_",
        "colab_type": "code",
        "colab": {}
      },
      "source": [
        "## TO REMOVE DUPLICATES FROM A COLUMN \n",
        "def removeduplicates(dataset, col_name, dup_dict):\n",
        "  # dataset : your dataset\n",
        "  # col_name : name of the column you want to remove duplicates from\n",
        "  # dup_dict : the dictionary of duplicates you get from using the previous function 'duplicate_counts'\n",
        "\n",
        "  counter = 0 # for every \n",
        "  for index, x in enumerate(dataset[col_name]):\n",
        "    for key in dup_dict:\n",
        "      # if the word from dataset is equal to the word in dict and value of that word count more than 1, delete row\n",
        "      if x == key and dup_dict[key] > 1:  \n",
        "        dataset = dataset.drop(dataset.index[index-counter])\n",
        "        # minus the count of the for this word in dup dictionary by 1\n",
        "        dup_dict[key] -= 1\n",
        "        counter += 1\n",
        "        # break after finding\n",
        "        break\n",
        "    # if x == 2:\n",
        "  dataset = pd.DataFrame(dataset).reset_index()\n",
        "  dataset = dataset.drop(columns='index')\n",
        "\n",
        "  return dataset"
      ],
      "execution_count": 0,
      "outputs": []
    },
    {
      "cell_type": "code",
      "metadata": {
        "id": "9GKmoHe0a9t9",
        "colab_type": "code",
        "colab": {}
      },
      "source": [
        "# tweettweet"
      ],
      "execution_count": 0,
      "outputs": []
    },
    {
      "cell_type": "code",
      "metadata": {
        "id": "Kmb-vejHbw5i",
        "colab_type": "code",
        "outputId": "c2042f88-3a7d-418f-c57f-e2cd9b106258",
        "colab": {
          "base_uri": "https://localhost:8080/",
          "height": 551
        }
      },
      "source": [
        "# tweettweet = removeduplicatess(tweettweet, 'text')\n",
        "# tweettweet"
      ],
      "execution_count": 0,
      "outputs": [
        {
          "output_type": "execute_result",
          "data": {
            "text/html": [
              "<div>\n",
              "<style scoped>\n",
              "    .dataframe tbody tr th:only-of-type {\n",
              "        vertical-align: middle;\n",
              "    }\n",
              "\n",
              "    .dataframe tbody tr th {\n",
              "        vertical-align: top;\n",
              "    }\n",
              "\n",
              "    .dataframe thead th {\n",
              "        text-align: right;\n",
              "    }\n",
              "</style>\n",
              "<table border=\"1\" class=\"dataframe\">\n",
              "  <thead>\n",
              "    <tr style=\"text-align: right;\">\n",
              "      <th></th>\n",
              "      <th>level_0</th>\n",
              "      <th>index</th>\n",
              "      <th>tweet_id</th>\n",
              "      <th>label</th>\n",
              "      <th>text</th>\n",
              "      <th>created_at</th>\n",
              "      <th>items</th>\n",
              "      <th>is_reply</th>\n",
              "      <th>contains_url</th>\n",
              "      <th>hashtag</th>\n",
              "      <th>tweetos</th>\n",
              "    </tr>\n",
              "  </thead>\n",
              "  <tbody>\n",
              "    <tr>\n",
              "      <th>0</th>\n",
              "      <td>0</td>\n",
              "      <td>0</td>\n",
              "      <td>850490912954350976</td>\n",
              "      <td>abusive</td>\n",
              "      <td>Alex Brosas another idiot #ALDUBKSGoesToUS</td>\n",
              "      <td>42832.979271</td>\n",
              "      <td>{'hashtags': [{'text': 'ALDUBKSGoesToUS', 'ind...</td>\n",
              "      <td>0</td>\n",
              "      <td>1</td>\n",
              "      <td>ALDUBKSGoesToUS</td>\n",
              "      <td>other</td>\n",
              "    </tr>\n",
              "    <tr>\n",
              "      <th>1</th>\n",
              "      <td>1</td>\n",
              "      <td>1</td>\n",
              "      <td>848791766853667968</td>\n",
              "      <td>abusive</td>\n",
              "      <td>as Nancy Reagan would say, 'just say FUCKING N...</td>\n",
              "      <td>42828.290521</td>\n",
              "      <td>{'hashtags': [], 'symbols': [], 'user_mentions...</td>\n",
              "      <td>1</td>\n",
              "      <td>1</td>\n",
              "      <td>None</td>\n",
              "      <td>other</td>\n",
              "    </tr>\n",
              "    <tr>\n",
              "      <th>2</th>\n",
              "      <td>3</td>\n",
              "      <td>3</td>\n",
              "      <td>850433664890544000</td>\n",
              "      <td>hateful</td>\n",
              "      <td>I hate er chase because if the Bitch that work...</td>\n",
              "      <td>42832.821296</td>\n",
              "      <td>{'hashtags': [], 'symbols': [], 'user_mentions...</td>\n",
              "      <td>0</td>\n",
              "      <td>0</td>\n",
              "      <td>None</td>\n",
              "      <td>other</td>\n",
              "    </tr>\n",
              "    <tr>\n",
              "      <th>3</th>\n",
              "      <td>5</td>\n",
              "      <td>5</td>\n",
              "      <td>850411934205844992</td>\n",
              "      <td>abusive</td>\n",
              "      <td>SICK OF BITCHES ON THE INTERNET #fbloggers #fb...</td>\n",
              "      <td>42832.761331</td>\n",
              "      <td>{'hashtags': [{'text': 'fbloggers', 'indices':...</td>\n",
              "      <td>1</td>\n",
              "      <td>1</td>\n",
              "      <td>fbloggers, fblchat, fbloggers, fblchat</td>\n",
              "      <td>other</td>\n",
              "    </tr>\n",
              "    <tr>\n",
              "      <th>4</th>\n",
              "      <td>6</td>\n",
              "      <td>6</td>\n",
              "      <td>850100742035836032</td>\n",
              "      <td>hateful</td>\n",
              "      <td>Pineapples do not belong on pizza. Y'all nigga...</td>\n",
              "      <td>42831.902604</td>\n",
              "      <td>{'hashtags': [], 'symbols': [], 'user_mentions...</td>\n",
              "      <td>1</td>\n",
              "      <td>0</td>\n",
              "      <td>None</td>\n",
              "      <td>other</td>\n",
              "    </tr>\n",
              "    <tr>\n",
              "      <th>...</th>\n",
              "      <td>...</td>\n",
              "      <td>...</td>\n",
              "      <td>...</td>\n",
              "      <td>...</td>\n",
              "      <td>...</td>\n",
              "      <td>...</td>\n",
              "      <td>...</td>\n",
              "      <td>...</td>\n",
              "      <td>...</td>\n",
              "      <td>...</td>\n",
              "      <td>...</td>\n",
              "    </tr>\n",
              "    <tr>\n",
              "      <th>57385</th>\n",
              "      <td>62549</td>\n",
              "      <td>62573</td>\n",
              "      <td>849805798540816000</td>\n",
              "      <td>abusive</td>\n",
              "      <td>just want ONE fucking person JUST ONE</td>\n",
              "      <td>42831.088715</td>\n",
              "      <td>{'hashtags': [], 'symbols': [], 'user_mentions...</td>\n",
              "      <td>1</td>\n",
              "      <td>0</td>\n",
              "      <td>None</td>\n",
              "      <td>other</td>\n",
              "    </tr>\n",
              "    <tr>\n",
              "      <th>57386</th>\n",
              "      <td>62550</td>\n",
              "      <td>62574</td>\n",
              "      <td>849352574654349056</td>\n",
              "      <td>normal</td>\n",
              "      <td>For fans of Simon R. Green - Fast-paced, grues...</td>\n",
              "      <td>42829.838056</td>\n",
              "      <td>{'hashtags': [{'text': 'ewgc', 'indices': [122...</td>\n",
              "      <td>0</td>\n",
              "      <td>0</td>\n",
              "      <td>ewgc</td>\n",
              "      <td>other</td>\n",
              "    </tr>\n",
              "    <tr>\n",
              "      <th>57387</th>\n",
              "      <td>62551</td>\n",
              "      <td>62575</td>\n",
              "      <td>849736257001463040</td>\n",
              "      <td>abusive</td>\n",
              "      <td>I'm like 5 bad days away from saying fuck it a...</td>\n",
              "      <td>42830.896817</td>\n",
              "      <td>{'hashtags': [], 'symbols': [], 'user_mentions...</td>\n",
              "      <td>1</td>\n",
              "      <td>0</td>\n",
              "      <td>None</td>\n",
              "      <td>other</td>\n",
              "    </tr>\n",
              "    <tr>\n",
              "      <th>57388</th>\n",
              "      <td>62552</td>\n",
              "      <td>62576</td>\n",
              "      <td>848944263366934016</td>\n",
              "      <td>abusive</td>\n",
              "      <td>\"Chick-fil-a's owner is a Trump supporter!\" Me...</td>\n",
              "      <td>42828.711331</td>\n",
              "      <td>{'hashtags': [], 'symbols': [], 'user_mentions...</td>\n",
              "      <td>1</td>\n",
              "      <td>1</td>\n",
              "      <td>None</td>\n",
              "      <td>other</td>\n",
              "    </tr>\n",
              "    <tr>\n",
              "      <th>57389</th>\n",
              "      <td>62553</td>\n",
              "      <td>62577</td>\n",
              "      <td>848600884091268992</td>\n",
              "      <td>abusive</td>\n",
              "      <td>if i wanna twist it all around my fucking body...</td>\n",
              "      <td>42827.763785</td>\n",
              "      <td>{'hashtags': [], 'symbols': [], 'user_mentions...</td>\n",
              "      <td>1</td>\n",
              "      <td>1</td>\n",
              "      <td>None</td>\n",
              "      <td>other</td>\n",
              "    </tr>\n",
              "  </tbody>\n",
              "</table>\n",
              "<p>57390 rows × 11 columns</p>\n",
              "</div>"
            ],
            "text/plain": [
              "       level_0  index  ...                                 hashtag tweetos\n",
              "0            0      0  ...                         ALDUBKSGoesToUS   other\n",
              "1            1      1  ...                                    None   other\n",
              "2            3      3  ...                                    None   other\n",
              "3            5      5  ...  fbloggers, fblchat, fbloggers, fblchat   other\n",
              "4            6      6  ...                                    None   other\n",
              "...        ...    ...  ...                                     ...     ...\n",
              "57385    62549  62573  ...                                    None   other\n",
              "57386    62550  62574  ...                                    ewgc   other\n",
              "57387    62551  62575  ...                                    None   other\n",
              "57388    62552  62576  ...                                    None   other\n",
              "57389    62553  62577  ...                                    None   other\n",
              "\n",
              "[57390 rows x 11 columns]"
            ]
          },
          "metadata": {
            "tags": []
          },
          "execution_count": 90
        }
      ]
    },
    {
      "cell_type": "code",
      "metadata": {
        "id": "THgHyEwD9z0k",
        "colab_type": "code",
        "colab": {}
      },
      "source": [
        "from google.colab import files\n",
        "# exportnow.to_csv('base_no_duplicates.csv') \n",
        "tweettweet.to_csv('/content/gdrive/My Drive/cds_stuffs/normal_has_more_1_4.csv')"
      ],
      "execution_count": 0,
      "outputs": []
    },
    {
      "cell_type": "markdown",
      "metadata": {
        "id": "oGxL1RexqnZO",
        "colab_type": "text"
      },
      "source": [
        "# Phase 2: Data Preprocessing/Cleaning "
      ]
    },
    {
      "cell_type": "markdown",
      "metadata": {
        "id": "Qoi3MR0RrxZ-",
        "colab_type": "text"
      },
      "source": [
        "Note: Choose whichever function you need. For how I did it, I always run lowercase function first as it contains my stringify functionality. You can always do it beforehand!"
      ]
    },
    {
      "cell_type": "markdown",
      "metadata": {
        "id": "ieN499fuq4FZ",
        "colab_type": "text"
      },
      "source": [
        "Note(again): For majority of these functions, you will only have dataset and text_col_name as the parameters, where text_col_name is just the name of the column where your text resides. For special cases, check comments"
      ]
    },
    {
      "cell_type": "markdown",
      "metadata": {
        "id": "0n9v-hkuuDbP",
        "colab_type": "text"
      },
      "source": [
        "## Basic preprocessing functions"
      ]
    },
    {
      "cell_type": "markdown",
      "metadata": {
        "id": "28GW42iFST_s",
        "colab_type": "text"
      },
      "source": [
        "### Lower case and stringify"
      ]
    },
    {
      "cell_type": "code",
      "metadata": {
        "id": "NuUvBTUHSavf",
        "colab_type": "code",
        "colab": {}
      },
      "source": [
        "def lower_case(dataset, text_col_name):\n",
        "  dataset[text_col_name] = dataset[text_col_name].apply(lambda x: \" \".join(x.lower() for x in str(x).split()))\n",
        "\n",
        "  return dataset"
      ],
      "execution_count": 0,
      "outputs": []
    },
    {
      "cell_type": "markdown",
      "metadata": {
        "id": "oV-ocsZTafzv",
        "colab_type": "text"
      },
      "source": [
        "### Remove hashtag"
      ]
    },
    {
      "cell_type": "code",
      "metadata": {
        "id": "MQb0hGzMakg5",
        "colab_type": "code",
        "colab": {}
      },
      "source": [
        "def remove_hashtag(dataset, text_col_name):\n",
        "  dataset[text_col_name] = dataset[text_col_name].str.replace('#[\\w]*','')\n",
        "\n",
        "  return dataset"
      ],
      "execution_count": 0,
      "outputs": []
    },
    {
      "cell_type": "markdown",
      "metadata": {
        "id": "tAtGD-FASL3b",
        "colab_type": "text"
      },
      "source": [
        "### Remove punctuation"
      ]
    },
    {
      "cell_type": "code",
      "metadata": {
        "id": "1JAJnZZxQsJd",
        "colab_type": "code",
        "colab": {}
      },
      "source": [
        "def remove_punctuation(dataset, text_col_name):\n",
        "  dataset[text_col_name] = dataset[text_col_name].str.replace('[^\\w\\s]','')\n",
        "\n",
        "  return dataset"
      ],
      "execution_count": 0,
      "outputs": []
    },
    {
      "cell_type": "markdown",
      "metadata": {
        "id": "ZMHfAqYESY0V",
        "colab_type": "text"
      },
      "source": [
        "### Stopword removal"
      ]
    },
    {
      "cell_type": "code",
      "metadata": {
        "id": "fppdhsAwSzAX",
        "colab_type": "code",
        "colab": {}
      },
      "source": [
        "from nltk.corpus import stopwords\n",
        "\n",
        "def remove_stops(dataset, text_col_name):\n",
        "  stops = stopwords.words('english')\n",
        "  \n",
        "  dataset[text_col_name] = dataset[text_col_name].apply(lambda x: \" \".join(x for x in x.split() if x not in stops))\n",
        "\n",
        "  return dataset"
      ],
      "execution_count": 0,
      "outputs": []
    },
    {
      "cell_type": "markdown",
      "metadata": {
        "id": "4U1SYsOm8tDG",
        "colab_type": "text"
      },
      "source": [
        "### Non English removal"
      ]
    },
    {
      "cell_type": "code",
      "metadata": {
        "id": "heqI3BlQ8vjJ",
        "colab_type": "code",
        "colab": {}
      },
      "source": [
        "import nltk\n",
        "\n",
        "def remove_nonenglish(dataset, text_col_name):\n",
        "\n",
        "  words = set(nltk.corpus.words.words())\n",
        "\n",
        "  # dataset[text_col_name] = dataset[text_col_name].apply(lambda x: \" \".join(w for w in nltk.wordpunct_tokenize(x) \\ if w.lower() in words or not w.isalpha()))\n",
        "  dataset[text_col_name] = dataset[text_col_name].apply(lambda x: \" \".join(x for x in x.split() if x in words))\n",
        "\n",
        "  return dataset"
      ],
      "execution_count": 0,
      "outputs": []
    },
    {
      "cell_type": "markdown",
      "metadata": {
        "id": "xGql2r0ZTLOb",
        "colab_type": "text"
      },
      "source": [
        "### Common word removal"
      ]
    },
    {
      "cell_type": "code",
      "metadata": {
        "id": "pOSt2EaETYxd",
        "colab_type": "code",
        "colab": {}
      },
      "source": [
        "# note, must make sure the words are in string form. so run the lowercase function first\n",
        "\n",
        "def remove_commonwords(dataset, text_col_name, number_to_remove):\n",
        "  # number_to_remove : how many common words you want to remove from the whole dataset. eg if 'here' is a common word, it is removed from every line\n",
        "\n",
        "  n = number_to_remove\n",
        "\n",
        "  ## get the frequency of each word\n",
        "  word_frequency = pd.Series(' '.join(dataset[text_col_name]).split()).value_counts()[:n]\n",
        "\n",
        "  ## remove the n most common words\n",
        "  word_frequency = list(word_frequency.index)\n",
        "  dataset[text_col_name] = dataset[text_col_name].apply(lambda x: \" \".join(x for x in x.split() if x not in word_frequency))\n",
        "\n",
        "  return dataset"
      ],
      "execution_count": 0,
      "outputs": []
    },
    {
      "cell_type": "markdown",
      "metadata": {
        "id": "pyM0DFZaeD81",
        "colab_type": "text"
      },
      "source": [
        "### Rare word removal"
      ]
    },
    {
      "cell_type": "code",
      "metadata": {
        "id": "TgHhPpwgeFs8",
        "colab_type": "code",
        "colab": {}
      },
      "source": [
        "def remove_rarewords(dataset, text_col_name, number_to_remove):\n",
        "  # number_to_remove : how many common words you want to remove from the whole dataset. eg if 'here' is a common word, it is removed from every line\n",
        "\n",
        "  n = number_to_remove\n",
        "\n",
        "  ## get the frequency of each word\n",
        "  word_frequency = pd.Series(' '.join(dataset[text_col_name]).split()).value_counts()[-n:]\n",
        "\n",
        "  ## remove the n most common words\n",
        "  word_frequency = list(word_frequency.index)\n",
        "  dataset[text_col_name] = dataset[text_col_name].apply(lambda x: \" \".join(x for x in x.split() if x not in word_frequency))\n",
        "\n",
        "  return dataset"
      ],
      "execution_count": 0,
      "outputs": []
    },
    {
      "cell_type": "markdown",
      "metadata": {
        "id": "tib_Bw__icZh",
        "colab_type": "text"
      },
      "source": [
        "### Spelling correction (avoid this first)"
      ]
    },
    {
      "cell_type": "code",
      "metadata": {
        "id": "la4TRswLiZL-",
        "colab_type": "code",
        "colab": {}
      },
      "source": [
        "# ## warning this can be freaking long so keep in mind to test out a few terms first (eg)\n",
        "\n",
        "# from textblob import TextBlob\n",
        "\n",
        "# def spell_correct(dataset, text_col_name, n_terms):\n",
        "#   n = n_terms\n",
        "#   dataset[text_col_name][:n].apply(lambda x: str(TextBlob(x).correct()))\n",
        "\n",
        "#   return dataset"
      ],
      "execution_count": 0,
      "outputs": []
    },
    {
      "cell_type": "markdown",
      "metadata": {
        "id": "Ny77bdr0nDsf",
        "colab_type": "text"
      },
      "source": [
        "# Testing Section 1"
      ]
    },
    {
      "cell_type": "code",
      "metadata": {
        "id": "ZSsrRvRGBzC1",
        "colab_type": "code",
        "outputId": "75c22f6c-30f0-4f46-e8ac-194c2bc9e1c8",
        "colab": {
          "base_uri": "https://localhost:8080/",
          "height": 399
        }
      },
      "source": [
        "# made a copy to make life easier\n",
        "testing_base = tweettweet.copy()\n",
        "testing_base"
      ],
      "execution_count": 0,
      "outputs": [
        {
          "output_type": "execute_result",
          "data": {
            "text/html": [
              "<div>\n",
              "<style scoped>\n",
              "    .dataframe tbody tr th:only-of-type {\n",
              "        vertical-align: middle;\n",
              "    }\n",
              "\n",
              "    .dataframe tbody tr th {\n",
              "        vertical-align: top;\n",
              "    }\n",
              "\n",
              "    .dataframe thead th {\n",
              "        text-align: right;\n",
              "    }\n",
              "</style>\n",
              "<table border=\"1\" class=\"dataframe\">\n",
              "  <thead>\n",
              "    <tr style=\"text-align: right;\">\n",
              "      <th></th>\n",
              "      <th>tweet_id</th>\n",
              "      <th>label</th>\n",
              "      <th>text</th>\n",
              "    </tr>\n",
              "  </thead>\n",
              "  <tbody>\n",
              "    <tr>\n",
              "      <th>0</th>\n",
              "      <td>850490912954350976</td>\n",
              "      <td>1</td>\n",
              "      <td>Alex Brosas another idiot #ALDUBKSGoesToUS</td>\n",
              "    </tr>\n",
              "    <tr>\n",
              "      <th>1</th>\n",
              "      <td>848791766853667968</td>\n",
              "      <td>1</td>\n",
              "      <td>as Nancy Reagan would say, 'just say FUCKING N...</td>\n",
              "    </tr>\n",
              "    <tr>\n",
              "      <th>2</th>\n",
              "      <td>850433664890544000</td>\n",
              "      <td>1</td>\n",
              "      <td>I hate er chase because if the Bitch that work...</td>\n",
              "    </tr>\n",
              "    <tr>\n",
              "      <th>3</th>\n",
              "      <td>850411934205844992</td>\n",
              "      <td>1</td>\n",
              "      <td>SICK OF BITCHES ON THE INTERNET #fbloggers #fb...</td>\n",
              "    </tr>\n",
              "    <tr>\n",
              "      <th>4</th>\n",
              "      <td>850100742035836032</td>\n",
              "      <td>1</td>\n",
              "      <td>Pineapples do not belong on pizza. Y'all nigga...</td>\n",
              "    </tr>\n",
              "    <tr>\n",
              "      <th>...</th>\n",
              "      <td>...</td>\n",
              "      <td>...</td>\n",
              "      <td>...</td>\n",
              "    </tr>\n",
              "    <tr>\n",
              "      <th>30226</th>\n",
              "      <td>850744597030592000</td>\n",
              "      <td>1</td>\n",
              "      <td>Plot twist: he never stopped fucking with her ...</td>\n",
              "    </tr>\n",
              "    <tr>\n",
              "      <th>30227</th>\n",
              "      <td>849805798540816000</td>\n",
              "      <td>1</td>\n",
              "      <td>just want ONE fucking person JUST ONE</td>\n",
              "    </tr>\n",
              "    <tr>\n",
              "      <th>30228</th>\n",
              "      <td>849736257001463040</td>\n",
              "      <td>1</td>\n",
              "      <td>I'm like 5 bad days away from saying fuck it a...</td>\n",
              "    </tr>\n",
              "    <tr>\n",
              "      <th>30229</th>\n",
              "      <td>848944263366934016</td>\n",
              "      <td>1</td>\n",
              "      <td>\"Chick-fil-a's owner is a Trump supporter!\" Me...</td>\n",
              "    </tr>\n",
              "    <tr>\n",
              "      <th>30230</th>\n",
              "      <td>848600884091268992</td>\n",
              "      <td>1</td>\n",
              "      <td>if i wanna twist it all around my fucking body...</td>\n",
              "    </tr>\n",
              "  </tbody>\n",
              "</table>\n",
              "<p>30231 rows × 3 columns</p>\n",
              "</div>"
            ],
            "text/plain": [
              "                 tweet_id  ...                                               text\n",
              "0      850490912954350976  ...         Alex Brosas another idiot #ALDUBKSGoesToUS\n",
              "1      848791766853667968  ...  as Nancy Reagan would say, 'just say FUCKING N...\n",
              "2      850433664890544000  ...  I hate er chase because if the Bitch that work...\n",
              "3      850411934205844992  ...  SICK OF BITCHES ON THE INTERNET #fbloggers #fb...\n",
              "4      850100742035836032  ...  Pineapples do not belong on pizza. Y'all nigga...\n",
              "...                   ...  ...                                                ...\n",
              "30226  850744597030592000  ...  Plot twist: he never stopped fucking with her ...\n",
              "30227  849805798540816000  ...              just want ONE fucking person JUST ONE\n",
              "30228  849736257001463040  ...  I'm like 5 bad days away from saying fuck it a...\n",
              "30229  848944263366934016  ...  \"Chick-fil-a's owner is a Trump supporter!\" Me...\n",
              "30230  848600884091268992  ...  if i wanna twist it all around my fucking body...\n",
              "\n",
              "[30231 rows x 3 columns]"
            ]
          },
          "metadata": {
            "tags": []
          },
          "execution_count": 24
        }
      ]
    },
    {
      "cell_type": "code",
      "metadata": {
        "id": "topkcADBT-p4",
        "colab_type": "code",
        "outputId": "35a788ed-3bdb-44bc-a82b-adc69d03e80b",
        "colab": {
          "base_uri": "https://localhost:8080/",
          "height": 399
        }
      },
      "source": [
        "### Testing Section\n",
        "\n",
        "\n",
        "testing_base = remove_hashtag(testing_base, 'text')\n",
        "testing_base = lower_case(testing_base, 'text')\n",
        "testing_base = remove_punctuation(testing_base, 'text')\n",
        "testing_base = remove_stops(testing_base, 'text')\n",
        "\n",
        "# testing_base = spell_correct(testing_base, 'text', len(testing_base))\n",
        "# testing_base\n",
        "\n",
        "\n",
        "\n",
        "# freq = remove_commonwords(testing_base, 'text', 10)\n",
        "# freq\n",
        "testing_base"
      ],
      "execution_count": 0,
      "outputs": [
        {
          "output_type": "execute_result",
          "data": {
            "text/html": [
              "<div>\n",
              "<style scoped>\n",
              "    .dataframe tbody tr th:only-of-type {\n",
              "        vertical-align: middle;\n",
              "    }\n",
              "\n",
              "    .dataframe tbody tr th {\n",
              "        vertical-align: top;\n",
              "    }\n",
              "\n",
              "    .dataframe thead th {\n",
              "        text-align: right;\n",
              "    }\n",
              "</style>\n",
              "<table border=\"1\" class=\"dataframe\">\n",
              "  <thead>\n",
              "    <tr style=\"text-align: right;\">\n",
              "      <th></th>\n",
              "      <th>tweet_id</th>\n",
              "      <th>label</th>\n",
              "      <th>text</th>\n",
              "    </tr>\n",
              "  </thead>\n",
              "  <tbody>\n",
              "    <tr>\n",
              "      <th>0</th>\n",
              "      <td>850490912954350976</td>\n",
              "      <td>1</td>\n",
              "      <td>alex brosas another idiot</td>\n",
              "    </tr>\n",
              "    <tr>\n",
              "      <th>1</th>\n",
              "      <td>848791766853667968</td>\n",
              "      <td>1</td>\n",
              "      <td>nancy reagan would say say fucking something like</td>\n",
              "    </tr>\n",
              "    <tr>\n",
              "      <th>2</th>\n",
              "      <td>850433664890544000</td>\n",
              "      <td>1</td>\n",
              "      <td>hate er chase bitch works shes literally evil</td>\n",
              "    </tr>\n",
              "    <tr>\n",
              "      <th>3</th>\n",
              "      <td>850411934205844992</td>\n",
              "      <td>1</td>\n",
              "      <td>sick bitches internet</td>\n",
              "    </tr>\n",
              "    <tr>\n",
              "      <th>4</th>\n",
              "      <td>850100742035836032</td>\n",
              "      <td>1</td>\n",
              "      <td>pineapples belong pizza yall niggas nasty</td>\n",
              "    </tr>\n",
              "    <tr>\n",
              "      <th>...</th>\n",
              "      <td>...</td>\n",
              "      <td>...</td>\n",
              "      <td>...</td>\n",
              "    </tr>\n",
              "    <tr>\n",
              "      <th>30226</th>\n",
              "      <td>850744597030592000</td>\n",
              "      <td>1</td>\n",
              "      <td>plot twist never stopped fucking ðÿœš</td>\n",
              "    </tr>\n",
              "    <tr>\n",
              "      <th>30227</th>\n",
              "      <td>849805798540816000</td>\n",
              "      <td>1</td>\n",
              "      <td>want one fucking person one</td>\n",
              "    </tr>\n",
              "    <tr>\n",
              "      <th>30228</th>\n",
              "      <td>849736257001463040</td>\n",
              "      <td>1</td>\n",
              "      <td>im like 5 bad days away saying fuck running bu...</td>\n",
              "    </tr>\n",
              "    <tr>\n",
              "      <th>30229</th>\n",
              "      <td>848944263366934016</td>\n",
              "      <td>1</td>\n",
              "      <td>chickfilas owner trump supporter damn dats crazy</td>\n",
              "    </tr>\n",
              "    <tr>\n",
              "      <th>30230</th>\n",
              "      <td>848600884091268992</td>\n",
              "      <td>1</td>\n",
              "      <td>wanna twist around fucking body imma aint ugly...</td>\n",
              "    </tr>\n",
              "  </tbody>\n",
              "</table>\n",
              "<p>30231 rows × 3 columns</p>\n",
              "</div>"
            ],
            "text/plain": [
              "                 tweet_id  ...                                               text\n",
              "0      850490912954350976  ...                          alex brosas another idiot\n",
              "1      848791766853667968  ...  nancy reagan would say say fucking something like\n",
              "2      850433664890544000  ...      hate er chase bitch works shes literally evil\n",
              "3      850411934205844992  ...                              sick bitches internet\n",
              "4      850100742035836032  ...          pineapples belong pizza yall niggas nasty\n",
              "...                   ...  ...                                                ...\n",
              "30226  850744597030592000  ...              plot twist never stopped fucking ðÿœš\n",
              "30227  849805798540816000  ...                        want one fucking person one\n",
              "30228  849736257001463040  ...  im like 5 bad days away saying fuck running bu...\n",
              "30229  848944263366934016  ...   chickfilas owner trump supporter damn dats crazy\n",
              "30230  848600884091268992  ...  wanna twist around fucking body imma aint ugly...\n",
              "\n",
              "[30231 rows x 3 columns]"
            ]
          },
          "metadata": {
            "tags": []
          },
          "execution_count": 25
        }
      ]
    },
    {
      "cell_type": "markdown",
      "metadata": {
        "id": "feuvyvUYuTyF",
        "colab_type": "text"
      },
      "source": [
        "## Slightly advanced preprocessing functions"
      ]
    },
    {
      "cell_type": "markdown",
      "metadata": {
        "id": "xcH5G-Fpi7HY",
        "colab_type": "text"
      },
      "source": [
        "### Tokenization"
      ]
    },
    {
      "cell_type": "code",
      "metadata": {
        "id": "4I-qTdZqjAtO",
        "colab_type": "code",
        "colab": {}
      },
      "source": [
        "def tokenize(dataset, text_col_name):\n",
        "  \n",
        "  dataset[text_col_name] = dataset[text_col_name].apply(lambda x: TextBlob(x).words)\n",
        "\n",
        "  return dataset\n"
      ],
      "execution_count": 0,
      "outputs": []
    },
    {
      "cell_type": "markdown",
      "metadata": {
        "id": "IcbpEX1tkw9P",
        "colab_type": "text"
      },
      "source": [
        "### Stemming"
      ]
    },
    {
      "cell_type": "code",
      "metadata": {
        "id": "SQLvZzWnkyVA",
        "colab_type": "code",
        "colab": {}
      },
      "source": [
        "from nltk.stem import PorterStemmer\n",
        "\n",
        "def stem(dataset, text_col_name):\n",
        "  plant = PorterStemmer()\n",
        "  dataset[text_col_name] = dataset[text_col_name].apply(lambda x: \" \".join([plant.stem(word) for word in x.split]))\n",
        "\n",
        "  return dataset\n"
      ],
      "execution_count": 0,
      "outputs": []
    },
    {
      "cell_type": "markdown",
      "metadata": {
        "id": "FK4EXGrDVzYF",
        "colab_type": "text"
      },
      "source": [
        "### Lemmatization"
      ]
    },
    {
      "cell_type": "code",
      "metadata": {
        "id": "3PaNA9eSV0ux",
        "colab_type": "code",
        "colab": {}
      },
      "source": [
        "from textblob import Word\n",
        "\n",
        "def lemma(dataset, text_col_name):\n",
        "\n",
        "  dataset[text_col_name] = dataset[text_col_name].apply(lambda x: \" \".join([Word(word).lemmatize() for word in x.split()]))\n",
        "\n",
        "  return dataset\n"
      ],
      "execution_count": 0,
      "outputs": []
    },
    {
      "cell_type": "markdown",
      "metadata": {
        "id": "9AJ3ymbYbpLc",
        "colab_type": "text"
      },
      "source": [
        "### Sentiment Analysis "
      ]
    },
    {
      "cell_type": "code",
      "metadata": {
        "id": "HdxPiMv8bx7X",
        "colab_type": "code",
        "colab": {}
      },
      "source": [
        "def get_sentiment(dataset, text_col_name):\n",
        "\n",
        "  dataset['sentiment'] = dataset[text_col_name].apply(lambda x: TextBlob(x).sentiment[0])\n",
        "\n",
        "  return dataset\n"
      ],
      "execution_count": 0,
      "outputs": []
    },
    {
      "cell_type": "code",
      "metadata": {
        "id": "o2UMQOMQWYCe",
        "colab_type": "code",
        "colab": {}
      },
      "source": [
        "testing_base2 = testing_base.copy()"
      ],
      "execution_count": 0,
      "outputs": []
    },
    {
      "cell_type": "markdown",
      "metadata": {
        "id": "f0N3bJgwnMF6",
        "colab_type": "text"
      },
      "source": [
        "# Testing Section 2"
      ]
    },
    {
      "cell_type": "code",
      "metadata": {
        "id": "EnmKShYXWcfb",
        "colab_type": "code",
        "outputId": "e0bbbbfd-1624-4761-ca23-9df55fc3060b",
        "colab": {
          "base_uri": "https://localhost:8080/",
          "height": 399
        }
      },
      "source": [
        "# testing_base2 = tokenize(testing_base2,'text', 1)\n",
        "\n",
        "testing_base2 = lemma(testing_base2,'text')\n",
        "\n",
        "# testing_base2 = get_sentiment(testing_base2, 'text')\n",
        "# \n",
        "# testing_base2 = remove_nonenglish(testing_base, 'text')\n",
        "\n",
        "testing_base2"
      ],
      "execution_count": 0,
      "outputs": [
        {
          "output_type": "execute_result",
          "data": {
            "text/html": [
              "<div>\n",
              "<style scoped>\n",
              "    .dataframe tbody tr th:only-of-type {\n",
              "        vertical-align: middle;\n",
              "    }\n",
              "\n",
              "    .dataframe tbody tr th {\n",
              "        vertical-align: top;\n",
              "    }\n",
              "\n",
              "    .dataframe thead th {\n",
              "        text-align: right;\n",
              "    }\n",
              "</style>\n",
              "<table border=\"1\" class=\"dataframe\">\n",
              "  <thead>\n",
              "    <tr style=\"text-align: right;\">\n",
              "      <th></th>\n",
              "      <th>tweet_id</th>\n",
              "      <th>label</th>\n",
              "      <th>text</th>\n",
              "    </tr>\n",
              "  </thead>\n",
              "  <tbody>\n",
              "    <tr>\n",
              "      <th>0</th>\n",
              "      <td>850490912954350976</td>\n",
              "      <td>1</td>\n",
              "      <td>alex brosas another idiot</td>\n",
              "    </tr>\n",
              "    <tr>\n",
              "      <th>1</th>\n",
              "      <td>848791766853667968</td>\n",
              "      <td>1</td>\n",
              "      <td>nancy reagan would say say fucking something like</td>\n",
              "    </tr>\n",
              "    <tr>\n",
              "      <th>2</th>\n",
              "      <td>850433664890544000</td>\n",
              "      <td>1</td>\n",
              "      <td>hate er chase bitch work shes literally evil</td>\n",
              "    </tr>\n",
              "    <tr>\n",
              "      <th>3</th>\n",
              "      <td>850411934205844992</td>\n",
              "      <td>1</td>\n",
              "      <td>sick bitch internet</td>\n",
              "    </tr>\n",
              "    <tr>\n",
              "      <th>4</th>\n",
              "      <td>850100742035836032</td>\n",
              "      <td>1</td>\n",
              "      <td>pineapple belong pizza yall nigga nasty</td>\n",
              "    </tr>\n",
              "    <tr>\n",
              "      <th>...</th>\n",
              "      <td>...</td>\n",
              "      <td>...</td>\n",
              "      <td>...</td>\n",
              "    </tr>\n",
              "    <tr>\n",
              "      <th>30226</th>\n",
              "      <td>850744597030592000</td>\n",
              "      <td>1</td>\n",
              "      <td>plot twist never stopped fucking ðÿœš</td>\n",
              "    </tr>\n",
              "    <tr>\n",
              "      <th>30227</th>\n",
              "      <td>849805798540816000</td>\n",
              "      <td>1</td>\n",
              "      <td>want one fucking person one</td>\n",
              "    </tr>\n",
              "    <tr>\n",
              "      <th>30228</th>\n",
              "      <td>849736257001463040</td>\n",
              "      <td>1</td>\n",
              "      <td>im like 5 bad day away saying fuck running bud...</td>\n",
              "    </tr>\n",
              "    <tr>\n",
              "      <th>30229</th>\n",
              "      <td>848944263366934016</td>\n",
              "      <td>1</td>\n",
              "      <td>chickfilas owner trump supporter damn dat crazy</td>\n",
              "    </tr>\n",
              "    <tr>\n",
              "      <th>30230</th>\n",
              "      <td>848600884091268992</td>\n",
              "      <td>1</td>\n",
              "      <td>wanna twist around fucking body imma aint ugly...</td>\n",
              "    </tr>\n",
              "  </tbody>\n",
              "</table>\n",
              "<p>30231 rows × 3 columns</p>\n",
              "</div>"
            ],
            "text/plain": [
              "                 tweet_id  ...                                               text\n",
              "0      850490912954350976  ...                          alex brosas another idiot\n",
              "1      848791766853667968  ...  nancy reagan would say say fucking something like\n",
              "2      850433664890544000  ...       hate er chase bitch work shes literally evil\n",
              "3      850411934205844992  ...                                sick bitch internet\n",
              "4      850100742035836032  ...            pineapple belong pizza yall nigga nasty\n",
              "...                   ...  ...                                                ...\n",
              "30226  850744597030592000  ...              plot twist never stopped fucking ðÿœš\n",
              "30227  849805798540816000  ...                        want one fucking person one\n",
              "30228  849736257001463040  ...  im like 5 bad day away saying fuck running bud...\n",
              "30229  848944263366934016  ...    chickfilas owner trump supporter damn dat crazy\n",
              "30230  848600884091268992  ...  wanna twist around fucking body imma aint ugly...\n",
              "\n",
              "[30231 rows x 3 columns]"
            ]
          },
          "metadata": {
            "tags": []
          },
          "execution_count": 28
        }
      ]
    },
    {
      "cell_type": "markdown",
      "metadata": {
        "id": "ItNP4C-whMeT",
        "colab_type": "text"
      },
      "source": [
        "## My own means of getting my processed dataset output to gdrive"
      ]
    },
    {
      "cell_type": "code",
      "metadata": {
        "id": "POPl4Yi0gpGb",
        "colab_type": "code",
        "colab": {}
      },
      "source": [
        "# <your_dataset_object_name>.to_csv(<your_preferred_file_path.csv>)    dont forget your ''\n",
        "testing_base2.to_csv('/content/gdrive/My Drive/cds_stuffs/normal_has_more_1_4.csv')\n"
      ],
      "execution_count": 0,
      "outputs": []
    }
  ]
}